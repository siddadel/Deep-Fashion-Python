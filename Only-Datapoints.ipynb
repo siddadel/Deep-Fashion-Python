{
 "cells": [
  {
   "cell_type": "code",
   "execution_count": 1,
   "metadata": {},
   "outputs": [
    {
     "name": "stderr",
     "output_type": "stream",
     "text": [
      "Using TensorFlow backend.\n",
      "/usr/local/lib/python3.6/site-packages/ipykernel_launcher.py:26: DeprecationWarning: np.asscalar(a) is deprecated since NumPy v1.16, use a.item() instead\n"
     ]
    },
    {
     "data": {
      "text/plain": [
       "array([ 611, 7565,  506, ..., 1888, 5349, 4376])"
      ]
     },
     "execution_count": 1,
     "metadata": {},
     "output_type": "execute_result"
    }
   ],
   "source": [
    "import numpy as np\n",
    "import pandas as pd\n",
    "import matplotlib.pyplot as plt\n",
    "from matplotlib.ticker import StrMethodFormatter\n",
    "import os\n",
    "import shutil\n",
    "from pathlib import Path\n",
    "import keras\n",
    "from keras.models import Sequential\n",
    "from keras.layers import Dense\n",
    "from sklearn.metrics import classification_report,confusion_matrix\n",
    "import itertools\n",
    "from sklearn.model_selection import train_test_split \n",
    "from sklearn.prepr ocessing import normalize\n",
    "\n",
    "df = pd.read_csv('/floyd/input/csv/images.csv', header=None)\n",
    "dir = r'/floyd/input/images_copy'\n",
    "\n",
    "img_list = os.listdir(dir)\n",
    "img_list = [Path(img).stem for img in img_list]\n",
    "df = df[df[0].isin(img_list)]\n",
    "\n",
    "\n",
    "df['price'] = df[5]\n",
    "arr = df[2].unique() \n",
    "df['color'] = df[2].transform(lambda x: np.asscalar(np.array(np.where(arr == x))))\n",
    "df['style'] = df[4]\n",
    "df['nyco_class'] = df[3]\n",
    "df['sku'] = df[0]\n",
    "df['sales'] = df[1]\n",
    "df['above500'] = df[1] >= 500\n",
    "\n",
    "df['nyco_class'].unique()\n",
    "df['style'].unique()"
   ]
  },
  {
   "cell_type": "code",
   "execution_count": 2,
   "metadata": {},
   "outputs": [
    {
     "name": "stdout",
     "output_type": "stream",
     "text": [
      "(9423, 1)\n",
      "(524, 1)\n",
      "(523, 1)\n",
      "3407\n",
      "174\n",
      "198\n"
     ]
    }
   ],
   "source": [
    "X = np.column_stack((df['price'].values, df['style'].values, df['nyco_class'].values, df['color'].values))\n",
    "y = df['above500'].values.reshape(-1, 1)\n",
    "\n",
    "# X = normalize(X, axis=0, norm='max')\n",
    "\n",
    "X_train, X_test, y_train, y_test = train_test_split(X, y, test_size=0.1, random_state=1) \n",
    "X_val, X_test, y_val, y_test = train_test_split(X_test, y_test, test_size=0.5, random_state=1) \n",
    "\n",
    "\n",
    "print(y_train.shape)\n",
    "print(y_test.shape)\n",
    "print(y_val.shape)\n",
    "\n",
    "print(np.sum(y_train == 1))\n",
    "print(np.sum(y_test == 1))\n",
    "print(np.sum(y_val == 1))"
   ]
  },
  {
   "cell_type": "code",
   "execution_count": 3,
   "metadata": {},
   "outputs": [
    {
     "name": "stderr",
     "output_type": "stream",
     "text": [
      "/usr/local/lib/python3.6/site-packages/ipykernel_launcher.py:2: UserWarning: Update your `Dense` call to the Keras 2 API: `Dense(activation=\"relu\", input_dim=4, units=300, kernel_initializer=\"uniform\")`\n",
      "  \n",
      "/usr/local/lib/python3.6/site-packages/ipykernel_launcher.py:3: UserWarning: Update your `Dense` call to the Keras 2 API: `Dense(activation=\"relu\", units=500, kernel_initializer=\"uniform\")`\n",
      "  This is separate from the ipykernel package so we can avoid doing imports until\n",
      "/usr/local/lib/python3.6/site-packages/ipykernel_launcher.py:4: UserWarning: Update your `Dense` call to the Keras 2 API: `Dense(activation=\"relu\", units=500, kernel_initializer=\"uniform\")`\n",
      "  after removing the cwd from sys.path.\n",
      "/usr/local/lib/python3.6/site-packages/ipykernel_launcher.py:5: UserWarning: Update your `Dense` call to the Keras 2 API: `Dense(activation=\"relu\", units=500, kernel_initializer=\"uniform\")`\n",
      "  \"\"\"\n",
      "/usr/local/lib/python3.6/site-packages/ipykernel_launcher.py:6: UserWarning: Update your `Dense` call to the Keras 2 API: `Dense(activation=\"relu\", units=200, kernel_initializer=\"uniform\")`\n",
      "  \n",
      "/usr/local/lib/python3.6/site-packages/ipykernel_launcher.py:7: UserWarning: Update your `Dense` call to the Keras 2 API: `Dense(activation=\"sigmoid\", units=1, kernel_initializer=\"uniform\")`\n",
      "  import sys\n"
     ]
    }
   ],
   "source": [
    "classifier = Sequential()\n",
    "classifier.add(Dense(output_dim = 300, init = 'uniform', activation = 'relu', input_dim = 4))\n",
    "classifier.add(Dense(output_dim = 500, init = 'uniform', activation = 'relu'))\n",
    "classifier.add(Dense(output_dim = 500, init = 'uniform', activation = 'relu'))\n",
    "classifier.add(Dense(output_dim = 500, init = 'uniform', activation = 'relu'))\n",
    "classifier.add(Dense(output_dim = 200, init = 'uniform', activation = 'relu'))\n",
    "classifier.add(Dense(output_dim = 1, init = 'uniform', activation = 'sigmoid'))\n",
    "classifier.compile(optimizer = 'adam', loss = 'binary_crossentropy', metrics = ['binary_accuracy'])"
   ]
  },
  {
   "cell_type": "code",
   "execution_count": 4,
   "metadata": {},
   "outputs": [
    {
     "data": {
      "text/plain": [
       "<keras.callbacks.callbacks.History at 0x7f0b0c1d4fd0>"
      ]
     },
     "execution_count": 4,
     "metadata": {},
     "output_type": "execute_result"
    }
   ],
   "source": [
    "classifier.fit(X_train, y_train, batch_size = 128, epochs = 1000, verbose=0, validation_data= (X_val, y_val))"
   ]
  },
  {
   "cell_type": "code",
   "execution_count": 5,
   "metadata": {},
   "outputs": [
    {
     "name": "stdout",
     "output_type": "stream",
     "text": [
      "              precision    recall  f1-score   support\n",
      "\n",
      "       False       0.81      0.90      0.85       350\n",
      "        True       0.74      0.57      0.65       174\n",
      "\n",
      "    accuracy                           0.79       524\n",
      "   macro avg       0.77      0.74      0.75       524\n",
      "weighted avg       0.78      0.79      0.78       524\n",
      "\n",
      "136.0\n",
      "524\n",
      "0.2595419847328244\n",
      "174\n",
      "              precision    recall  f1-score   support\n",
      "\n",
      "       False       0.71      0.98      0.82       350\n",
      "        True       0.79      0.18      0.29       174\n",
      "\n",
      "    accuracy                           0.71       524\n",
      "   macro avg       0.75      0.58      0.56       524\n",
      "weighted avg       0.73      0.71      0.64       524\n",
      "\n",
      "39\n",
      "524\n",
      "0.07442748091603053\n",
      "174\n"
     ]
    }
   ],
   "source": [
    "Y_pred = classifier.predict(X_test)\n",
    "y_pred = np.round(Y_pred) \n",
    "print(classification_report(y_test, y_pred)) #\n",
    "print(np.sum(y_pred))\n",
    "print(y_pred.shape[0])\n",
    "print(np.sum(y_pred)/y_pred.shape[0])\n",
    "print(np.sum(y_test))\n",
    "\n",
    "t = lambda x: 1 if x>0.9 else 0\n",
    "y_pred = np.array([t(x) for x in Y_pred])\n",
    "print(classification_report(y_test, y_pred)) #\n",
    "print(np.sum(y_pred))\n",
    "print(y_pred.shape[0])\n",
    "print(np.sum(y_pred)/y_pred.shape[0])\n",
    "print(np.sum(y_test))"
   ]
  },
  {
   "cell_type": "code",
   "execution_count": null,
   "metadata": {},
   "outputs": [],
   "source": []
  },
  {
   "cell_type": "code",
   "execution_count": 6,
   "metadata": {},
   "outputs": [],
   "source": [
    "from random import randint\n",
    "r = str(randint(100, 999))\n",
    "\n",
    "classifier.save('sequential-data'+r+'.h5')"
   ]
  },
  {
   "cell_type": "code",
   "execution_count": 7,
   "metadata": {},
   "outputs": [],
   "source": [
    "# 10000 epochs\n",
    "#        precision    recall  f1-score   support\n",
    "\n",
    "#        False       0.82      0.82      0.82       350\n",
    "#         True       0.64      0.64      0.64       174\n",
    "\n",
    "#     accuracy                           0.76       524\n",
    "#    macro avg       0.73      0.73      0.73       524\n",
    "# weighted avg       0.76      0.76      0.76       524"
   ]
  },
  {
   "cell_type": "code",
   "execution_count": 8,
   "metadata": {},
   "outputs": [],
   "source": [
    "# 2000 epochs\n",
    "#  precision    recall  f1-score   support\n",
    "\n",
    "#        False       0.82      0.82      0.82       350\n",
    "#         True       0.64      0.64      0.64       174\n",
    "\n",
    "#     accuracy                           0.76       524\n",
    "#    macro avg       0.73      0.73      0.73       524\n",
    "# weighted avg       0.76      0.76      0.76       524"
   ]
  },
  {
   "cell_type": "code",
   "execution_count": 9,
   "metadata": {},
   "outputs": [],
   "source": [
    "# 1000 epochs\n",
    "#  precision    recall  f1-score   support\n",
    "\n",
    "#        False       0.86      0.81      0.84       350\n",
    "#         True       0.66      0.74      0.70       174\n",
    "\n",
    "#     accuracy                           0.79       524\n",
    "#    macro avg       0.76      0.78      0.77       524\n",
    "# weighted avg       0.80      0.79      0.79       524"
   ]
  },
  {
   "cell_type": "code",
   "execution_count": 10,
   "metadata": {},
   "outputs": [],
   "source": [
    "# 1500 epochs\n",
    "# precision    recall  f1-score   support\n",
    "\n",
    "#        False       0.79      0.84      0.81       350\n",
    "#         True       0.63      0.55      0.59       174\n",
    "\n",
    "#     accuracy                           0.74       524\n",
    "#    macro avg       0.71      0.69      0.70       524\n",
    "# weighted avg       0.74      0.74      0.74       524\n"
   ]
  }
 ],
 "metadata": {
  "kernelspec": {
   "display_name": "Python 3",
   "language": "python",
   "name": "python3"
  },
  "language_info": {
   "codemirror_mode": {
    "name": "ipython",
    "version": 3
   },
   "file_extension": ".py",
   "mimetype": "text/x-python",
   "name": "python",
   "nbconvert_exporter": "python",
   "pygments_lexer": "ipython3",
   "version": "3.6.9"
  }
 },
 "nbformat": 4,
 "nbformat_minor": 4
}
